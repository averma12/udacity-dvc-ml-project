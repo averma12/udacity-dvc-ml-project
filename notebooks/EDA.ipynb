{
 "cells": [
  {
   "cell_type": "markdown",
   "metadata": {},
   "source": [
    "# Install Dependencies"
   ]
  },
  {
   "cell_type": "code",
   "execution_count": 2,
   "metadata": {},
   "outputs": [
    {
     "name": "stdout",
     "output_type": "stream",
     "text": [
      "Collecting pandas-profiling==2.11.0\n",
      "  Downloading pandas_profiling-2.11.0-py2.py3-none-any.whl (243 kB)\n",
      "\u001b[K     |████████████████████████████████| 243 kB 26.1 MB/s eta 0:00:01\n",
      "\u001b[?25hRequirement already satisfied: attrs>=19.3.0 in ./anaconda3/envs/pytorch_latest_p37/lib/python3.7/site-packages (from pandas-profiling==2.11.0) (20.3.0)\n",
      "Requirement already satisfied: requests>=2.24.0 in ./anaconda3/envs/pytorch_latest_p37/lib/python3.7/site-packages (from pandas-profiling==2.11.0) (2.25.0)\n",
      "Requirement already satisfied: ipywidgets>=7.5.1 in ./anaconda3/envs/pytorch_latest_p37/lib/python3.7/site-packages (from pandas-profiling==2.11.0) (7.5.1)\n",
      "Requirement already satisfied: joblib in ./anaconda3/envs/pytorch_latest_p37/lib/python3.7/site-packages (from pandas-profiling==2.11.0) (0.14.1)\n",
      "Requirement already satisfied: numpy>=1.16.0 in ./anaconda3/envs/pytorch_latest_p37/lib/python3.7/site-packages (from pandas-profiling==2.11.0) (1.19.4)\n",
      "Requirement already satisfied: jinja2>=2.11.1 in ./anaconda3/envs/pytorch_latest_p37/lib/python3.7/site-packages (from pandas-profiling==2.11.0) (2.11.1)\n",
      "Requirement already satisfied: scipy>=1.4.1 in ./anaconda3/envs/pytorch_latest_p37/lib/python3.7/site-packages (from pandas-profiling==2.11.0) (1.4.1)\n",
      "Collecting confuse>=1.0.0\n",
      "  Downloading confuse-1.7.0-py2.py3-none-any.whl (25 kB)\n",
      "Requirement already satisfied: pyyaml in ./anaconda3/envs/pytorch_latest_p37/lib/python3.7/site-packages (from confuse>=1.0.0->pandas-profiling==2.11.0) (5.3.1)\n",
      "Collecting htmlmin>=0.1.12\n",
      "  Downloading htmlmin-0.1.12.tar.gz (19 kB)\n",
      "Requirement already satisfied: ipython>=4.0.0 in ./anaconda3/envs/pytorch_latest_p37/lib/python3.7/site-packages (from ipywidgets>=7.5.1->pandas-profiling==2.11.0) (7.12.0)\n",
      "Requirement already satisfied: widgetsnbextension~=3.5.0 in ./anaconda3/envs/pytorch_latest_p37/lib/python3.7/site-packages (from ipywidgets>=7.5.1->pandas-profiling==2.11.0) (3.5.1)\n",
      "Requirement already satisfied: traitlets>=4.3.1 in ./anaconda3/envs/pytorch_latest_p37/lib/python3.7/site-packages (from ipywidgets>=7.5.1->pandas-profiling==2.11.0) (4.3.3)\n",
      "Requirement already satisfied: nbformat>=4.2.0 in ./anaconda3/envs/pytorch_latest_p37/lib/python3.7/site-packages (from ipywidgets>=7.5.1->pandas-profiling==2.11.0) (5.0.4)\n",
      "Requirement already satisfied: ipykernel>=4.5.1 in ./anaconda3/envs/pytorch_latest_p37/lib/python3.7/site-packages (from ipywidgets>=7.5.1->pandas-profiling==2.11.0) (5.1.4)\n",
      "Requirement already satisfied: tornado>=4.2 in ./anaconda3/envs/pytorch_latest_p37/lib/python3.7/site-packages (from ipykernel>=4.5.1->ipywidgets>=7.5.1->pandas-profiling==2.11.0) (6.0.3)\n",
      "Requirement already satisfied: traitlets>=4.3.1 in ./anaconda3/envs/pytorch_latest_p37/lib/python3.7/site-packages (from ipywidgets>=7.5.1->pandas-profiling==2.11.0) (4.3.3)\n",
      "Requirement already satisfied: ipython>=4.0.0 in ./anaconda3/envs/pytorch_latest_p37/lib/python3.7/site-packages (from ipywidgets>=7.5.1->pandas-profiling==2.11.0) (7.12.0)\n",
      "Requirement already satisfied: jupyter-client in ./anaconda3/envs/pytorch_latest_p37/lib/python3.7/site-packages (from ipykernel>=4.5.1->ipywidgets>=7.5.1->pandas-profiling==2.11.0) (5.3.4)\n",
      "Requirement already satisfied: pickleshare in ./anaconda3/envs/pytorch_latest_p37/lib/python3.7/site-packages (from ipython>=4.0.0->ipywidgets>=7.5.1->pandas-profiling==2.11.0) (0.7.5)\n",
      "Requirement already satisfied: traitlets>=4.3.1 in ./anaconda3/envs/pytorch_latest_p37/lib/python3.7/site-packages (from ipywidgets>=7.5.1->pandas-profiling==2.11.0) (4.3.3)\n",
      "Requirement already satisfied: setuptools>=18.5 in ./anaconda3/envs/pytorch_latest_p37/lib/python3.7/site-packages (from ipython>=4.0.0->ipywidgets>=7.5.1->pandas-profiling==2.11.0) (45.2.0.post20200210)\n",
      "Requirement already satisfied: prompt-toolkit!=3.0.0,!=3.0.1,<3.1.0,>=2.0.0 in ./anaconda3/envs/pytorch_latest_p37/lib/python3.7/site-packages (from ipython>=4.0.0->ipywidgets>=7.5.1->pandas-profiling==2.11.0) (3.0.3)\n",
      "Requirement already satisfied: jedi>=0.10 in ./anaconda3/envs/pytorch_latest_p37/lib/python3.7/site-packages (from ipython>=4.0.0->ipywidgets>=7.5.1->pandas-profiling==2.11.0) (0.14.1)\n",
      "Requirement already satisfied: decorator in ./anaconda3/envs/pytorch_latest_p37/lib/python3.7/site-packages (from ipython>=4.0.0->ipywidgets>=7.5.1->pandas-profiling==2.11.0) (4.4.1)\n",
      "Requirement already satisfied: pexpect in ./anaconda3/envs/pytorch_latest_p37/lib/python3.7/site-packages (from ipython>=4.0.0->ipywidgets>=7.5.1->pandas-profiling==2.11.0) (4.8.0)\n",
      "Requirement already satisfied: backcall in ./anaconda3/envs/pytorch_latest_p37/lib/python3.7/site-packages (from ipython>=4.0.0->ipywidgets>=7.5.1->pandas-profiling==2.11.0) (0.1.0)\n",
      "Requirement already satisfied: pygments in ./anaconda3/envs/pytorch_latest_p37/lib/python3.7/site-packages (from ipython>=4.0.0->ipywidgets>=7.5.1->pandas-profiling==2.11.0) (2.5.2)\n",
      "Requirement already satisfied: parso>=0.5.0 in ./anaconda3/envs/pytorch_latest_p37/lib/python3.7/site-packages (from jedi>=0.10->ipython>=4.0.0->ipywidgets>=7.5.1->pandas-profiling==2.11.0) (0.5.2)\n",
      "Requirement already satisfied: MarkupSafe>=0.23 in ./anaconda3/envs/pytorch_latest_p37/lib/python3.7/site-packages (from jinja2>=2.11.1->pandas-profiling==2.11.0) (1.1.1)\n",
      "Requirement already satisfied: jupyter-core>=4.6.0 in ./anaconda3/envs/pytorch_latest_p37/lib/python3.7/site-packages (from jupyter-client->ipykernel>=4.5.1->ipywidgets>=7.5.1->pandas-profiling==2.11.0) (4.6.1)\n",
      "Requirement already satisfied: pyzmq>=13 in ./anaconda3/envs/pytorch_latest_p37/lib/python3.7/site-packages (from jupyter-client->ipykernel>=4.5.1->ipywidgets>=7.5.1->pandas-profiling==2.11.0) (18.1.1)\n",
      "Requirement already satisfied: tornado>=4.2 in ./anaconda3/envs/pytorch_latest_p37/lib/python3.7/site-packages (from ipykernel>=4.5.1->ipywidgets>=7.5.1->pandas-profiling==2.11.0) (6.0.3)\n",
      "Requirement already satisfied: python-dateutil>=2.1 in ./anaconda3/envs/pytorch_latest_p37/lib/python3.7/site-packages (from jupyter-client->ipykernel>=4.5.1->ipywidgets>=7.5.1->pandas-profiling==2.11.0) (2.8.1)\n",
      "Requirement already satisfied: traitlets>=4.3.1 in ./anaconda3/envs/pytorch_latest_p37/lib/python3.7/site-packages (from ipywidgets>=7.5.1->pandas-profiling==2.11.0) (4.3.3)\n",
      "Requirement already satisfied: traitlets>=4.3.1 in ./anaconda3/envs/pytorch_latest_p37/lib/python3.7/site-packages (from ipywidgets>=7.5.1->pandas-profiling==2.11.0) (4.3.3)\n",
      "Collecting matplotlib>=3.2.0\n",
      "  Downloading matplotlib-3.5.1-cp37-cp37m-manylinux_2_5_x86_64.manylinux1_x86_64.whl (11.2 MB)\n",
      "\u001b[K     |████████████████████████████████| 11.2 MB 71.8 MB/s eta 0:00:01\n",
      "\u001b[?25hRequirement already satisfied: numpy>=1.16.0 in ./anaconda3/envs/pytorch_latest_p37/lib/python3.7/site-packages (from pandas-profiling==2.11.0) (1.19.4)\n",
      "Requirement already satisfied: python-dateutil>=2.1 in ./anaconda3/envs/pytorch_latest_p37/lib/python3.7/site-packages (from jupyter-client->ipykernel>=4.5.1->ipywidgets>=7.5.1->pandas-profiling==2.11.0) (2.8.1)\n",
      "Requirement already satisfied: pillow>=6.2.0 in ./anaconda3/envs/pytorch_latest_p37/lib/python3.7/site-packages (from matplotlib>=3.2.0->pandas-profiling==2.11.0) (7.0.0)\n",
      "Requirement already satisfied: cycler>=0.10 in ./anaconda3/envs/pytorch_latest_p37/lib/python3.7/site-packages (from matplotlib>=3.2.0->pandas-profiling==2.11.0) (0.10.0)\n",
      "Requirement already satisfied: pyparsing>=2.2.1 in ./anaconda3/envs/pytorch_latest_p37/lib/python3.7/site-packages (from matplotlib>=3.2.0->pandas-profiling==2.11.0) (2.4.7)\n",
      "Requirement already satisfied: packaging>=20.0 in ./anaconda3/envs/pytorch_latest_p37/lib/python3.7/site-packages (from matplotlib>=3.2.0->pandas-profiling==2.11.0) (20.7)\n",
      "Requirement already satisfied: kiwisolver>=1.0.1 in ./anaconda3/envs/pytorch_latest_p37/lib/python3.7/site-packages (from matplotlib>=3.2.0->pandas-profiling==2.11.0) (1.1.0)\n",
      "Requirement already satisfied: six in ./anaconda3/envs/pytorch_latest_p37/lib/python3.7/site-packages (from cycler>=0.10->matplotlib>=3.2.0->pandas-profiling==2.11.0) (1.15.0)\n",
      "Collecting fonttools>=4.22.0\n",
      "  Downloading fonttools-4.29.0-py3-none-any.whl (895 kB)\n",
      "\u001b[K     |████████████████████████████████| 895 kB 70.0 MB/s eta 0:00:01\n",
      "\u001b[?25hRequirement already satisfied: setuptools>=18.5 in ./anaconda3/envs/pytorch_latest_p37/lib/python3.7/site-packages (from ipython>=4.0.0->ipywidgets>=7.5.1->pandas-profiling==2.11.0) (45.2.0.post20200210)\n",
      "Collecting missingno>=0.4.2\n",
      "  Downloading missingno-0.5.0-py3-none-any.whl (8.8 kB)\n",
      "Requirement already satisfied: scipy>=1.4.1 in ./anaconda3/envs/pytorch_latest_p37/lib/python3.7/site-packages (from pandas-profiling==2.11.0) (1.4.1)\n",
      "Requirement already satisfied: numpy>=1.16.0 in ./anaconda3/envs/pytorch_latest_p37/lib/python3.7/site-packages (from pandas-profiling==2.11.0) (1.19.4)\n",
      "Requirement already satisfied: ipython-genutils in ./anaconda3/envs/pytorch_latest_p37/lib/python3.7/site-packages (from nbformat>=4.2.0->ipywidgets>=7.5.1->pandas-profiling==2.11.0) (0.2.0)\n",
      "Requirement already satisfied: jupyter-core>=4.6.0 in ./anaconda3/envs/pytorch_latest_p37/lib/python3.7/site-packages (from jupyter-client->ipykernel>=4.5.1->ipywidgets>=7.5.1->pandas-profiling==2.11.0) (4.6.1)\n",
      "Requirement already satisfied: jsonschema!=2.5.0,>=2.4 in ./anaconda3/envs/pytorch_latest_p37/lib/python3.7/site-packages (from nbformat>=4.2.0->ipywidgets>=7.5.1->pandas-profiling==2.11.0) (3.2.0)\n",
      "Requirement already satisfied: traitlets>=4.3.1 in ./anaconda3/envs/pytorch_latest_p37/lib/python3.7/site-packages (from ipywidgets>=7.5.1->pandas-profiling==2.11.0) (4.3.3)\n",
      "Requirement already satisfied: attrs>=19.3.0 in ./anaconda3/envs/pytorch_latest_p37/lib/python3.7/site-packages (from pandas-profiling==2.11.0) (20.3.0)\n",
      "Requirement already satisfied: pyrsistent>=0.14.0 in ./anaconda3/envs/pytorch_latest_p37/lib/python3.7/site-packages (from jsonschema!=2.5.0,>=2.4->nbformat>=4.2.0->ipywidgets>=7.5.1->pandas-profiling==2.11.0) (0.15.7)\n",
      "Requirement already satisfied: setuptools>=18.5 in ./anaconda3/envs/pytorch_latest_p37/lib/python3.7/site-packages (from ipython>=4.0.0->ipywidgets>=7.5.1->pandas-profiling==2.11.0) (45.2.0.post20200210)\n",
      "Requirement already satisfied: importlib-metadata in ./anaconda3/envs/pytorch_latest_p37/lib/python3.7/site-packages (from jsonschema!=2.5.0,>=2.4->nbformat>=4.2.0->ipywidgets>=7.5.1->pandas-profiling==2.11.0) (3.1.0)\n",
      "Requirement already satisfied: six in ./anaconda3/envs/pytorch_latest_p37/lib/python3.7/site-packages (from cycler>=0.10->matplotlib>=3.2.0->pandas-profiling==2.11.0) (1.15.0)\n",
      "Requirement already satisfied: zipp>=0.5 in ./anaconda3/envs/pytorch_latest_p37/lib/python3.7/site-packages (from importlib-metadata->jsonschema!=2.5.0,>=2.4->nbformat>=4.2.0->ipywidgets>=7.5.1->pandas-profiling==2.11.0) (3.4.0)\n",
      "Requirement already satisfied: pyparsing>=2.2.1 in ./anaconda3/envs/pytorch_latest_p37/lib/python3.7/site-packages (from matplotlib>=3.2.0->pandas-profiling==2.11.0) (2.4.7)\n",
      "Collecting pandas!=1.0.0,!=1.0.1,!=1.0.2,!=1.1.0,>=0.25.3\n",
      "  Downloading pandas-1.3.5-cp37-cp37m-manylinux_2_17_x86_64.manylinux2014_x86_64.whl (11.3 MB)\n",
      "\u001b[K     |████████████████████████████████| 11.3 MB 71.5 MB/s eta 0:00:01\n",
      "\u001b[?25hRequirement already satisfied: python-dateutil>=2.1 in ./anaconda3/envs/pytorch_latest_p37/lib/python3.7/site-packages (from jupyter-client->ipykernel>=4.5.1->ipywidgets>=7.5.1->pandas-profiling==2.11.0) (2.8.1)\n",
      "Requirement already satisfied: pytz>=2017.3 in ./anaconda3/envs/pytorch_latest_p37/lib/python3.7/site-packages (from pandas!=1.0.0,!=1.0.1,!=1.0.2,!=1.1.0,>=0.25.3->pandas-profiling==2.11.0) (2019.3)\n",
      "Requirement already satisfied: numpy>=1.16.0 in ./anaconda3/envs/pytorch_latest_p37/lib/python3.7/site-packages (from pandas-profiling==2.11.0) (1.19.4)\n",
      "Requirement already satisfied: ptyprocess>=0.5 in ./anaconda3/envs/pytorch_latest_p37/lib/python3.7/site-packages (from pexpect->ipython>=4.0.0->ipywidgets>=7.5.1->pandas-profiling==2.11.0) (0.6.0)\n",
      "Collecting phik>=0.10.0\n",
      "  Downloading phik-0.12.0-cp37-cp37m-manylinux2010_x86_64.whl (675 kB)\n",
      "\u001b[K     |████████████████████████████████| 675 kB 72.1 MB/s eta 0:00:01\n",
      "\u001b[?25hRequirement already satisfied: joblib in ./anaconda3/envs/pytorch_latest_p37/lib/python3.7/site-packages (from pandas-profiling==2.11.0) (0.14.1)\n",
      "Requirement already satisfied: numpy>=1.16.0 in ./anaconda3/envs/pytorch_latest_p37/lib/python3.7/site-packages (from pandas-profiling==2.11.0) (1.19.4)\n",
      "Requirement already satisfied: wcwidth in ./anaconda3/envs/pytorch_latest_p37/lib/python3.7/site-packages (from prompt-toolkit!=3.0.0,!=3.0.1,<3.1.0,>=2.0.0->ipython>=4.0.0->ipywidgets>=7.5.1->pandas-profiling==2.11.0) (0.1.8)\n",
      "Requirement already satisfied: six in ./anaconda3/envs/pytorch_latest_p37/lib/python3.7/site-packages (from cycler>=0.10->matplotlib>=3.2.0->pandas-profiling==2.11.0) (1.15.0)\n",
      "Requirement already satisfied: six in ./anaconda3/envs/pytorch_latest_p37/lib/python3.7/site-packages (from cycler>=0.10->matplotlib>=3.2.0->pandas-profiling==2.11.0) (1.15.0)\n",
      "Requirement already satisfied: chardet<4,>=3.0.2 in ./anaconda3/envs/pytorch_latest_p37/lib/python3.7/site-packages (from requests>=2.24.0->pandas-profiling==2.11.0) (3.0.4)\n",
      "Requirement already satisfied: urllib3<1.27,>=1.21.1 in ./anaconda3/envs/pytorch_latest_p37/lib/python3.7/site-packages (from requests>=2.24.0->pandas-profiling==2.11.0) (1.26.2)\n",
      "Requirement already satisfied: idna<3,>=2.5 in ./anaconda3/envs/pytorch_latest_p37/lib/python3.7/site-packages (from requests>=2.24.0->pandas-profiling==2.11.0) (2.10)\n",
      "Requirement already satisfied: certifi>=2017.4.17 in ./anaconda3/envs/pytorch_latest_p37/lib/python3.7/site-packages (from requests>=2.24.0->pandas-profiling==2.11.0) (2020.11.8)\n",
      "Collecting scipy>=1.4.1\n",
      "  Downloading scipy-1.7.3-cp37-cp37m-manylinux_2_12_x86_64.manylinux2010_x86_64.whl (38.1 MB)\n",
      "\u001b[K     |████████████████████████████████| 38.1 MB 70.9 MB/s eta 0:00:01\n",
      "\u001b[?25hRequirement already satisfied: numpy>=1.16.0 in ./anaconda3/envs/pytorch_latest_p37/lib/python3.7/site-packages (from pandas-profiling==2.11.0) (1.19.4)\n",
      "Collecting seaborn>=0.10.1\n",
      "  Downloading seaborn-0.11.2-py3-none-any.whl (292 kB)\n",
      "\u001b[K     |████████████████████████████████| 292 kB 71.5 MB/s eta 0:00:01\n",
      "\u001b[?25hRequirement already satisfied: numpy>=1.16.0 in ./anaconda3/envs/pytorch_latest_p37/lib/python3.7/site-packages (from pandas-profiling==2.11.0) (1.19.4)\n",
      "Collecting tangled-up-in-unicode>=0.0.6\n",
      "  Downloading tangled_up_in_unicode-0.2.0-py3-none-any.whl (4.7 MB)\n",
      "\u001b[K     |████████████████████████████████| 4.7 MB 71.3 MB/s eta 0:00:01\n",
      "\u001b[?25hCollecting tqdm>=4.48.2\n",
      "  Downloading tqdm-4.62.3-py2.py3-none-any.whl (76 kB)\n",
      "\u001b[K     |████████████████████████████████| 76 kB 5.7 MB/s  eta 0:00:01\n",
      "\u001b[?25hRequirement already satisfied: ipython-genutils in ./anaconda3/envs/pytorch_latest_p37/lib/python3.7/site-packages (from nbformat>=4.2.0->ipywidgets>=7.5.1->pandas-profiling==2.11.0) (0.2.0)\n",
      "Requirement already satisfied: decorator in ./anaconda3/envs/pytorch_latest_p37/lib/python3.7/site-packages (from ipython>=4.0.0->ipywidgets>=7.5.1->pandas-profiling==2.11.0) (4.4.1)\n",
      "Requirement already satisfied: six in ./anaconda3/envs/pytorch_latest_p37/lib/python3.7/site-packages (from cycler>=0.10->matplotlib>=3.2.0->pandas-profiling==2.11.0) (1.15.0)\n",
      "Collecting visions[type_image_path]==0.6.0\n",
      "  Downloading visions-0.6.0-py3-none-any.whl (75 kB)\n",
      "\u001b[K     |████████████████████████████████| 75 kB 5.0 MB/s  eta 0:00:01\n",
      "\u001b[?25hRequirement already satisfied: attrs>=19.3.0 in ./anaconda3/envs/pytorch_latest_p37/lib/python3.7/site-packages (from pandas-profiling==2.11.0) (20.3.0)\n",
      "Requirement already satisfied: numpy>=1.16.0 in ./anaconda3/envs/pytorch_latest_p37/lib/python3.7/site-packages (from pandas-profiling==2.11.0) (1.19.4)\n",
      "Requirement already satisfied: networkx>=2.4 in ./anaconda3/envs/pytorch_latest_p37/lib/python3.7/site-packages (from visions[type_image_path]==0.6.0->pandas-profiling==2.11.0) (2.4)\n",
      "Requirement already satisfied: pillow>=6.2.0 in ./anaconda3/envs/pytorch_latest_p37/lib/python3.7/site-packages (from matplotlib>=3.2.0->pandas-profiling==2.11.0) (7.0.0)\n",
      "Collecting imagehash\n",
      "  Downloading ImageHash-4.2.1.tar.gz (812 kB)\n",
      "\u001b[K     |████████████████████████████████| 812 kB 68.3 MB/s eta 0:00:01\n",
      "\u001b[?25hRequirement already satisfied: six in ./anaconda3/envs/pytorch_latest_p37/lib/python3.7/site-packages (from cycler>=0.10->matplotlib>=3.2.0->pandas-profiling==2.11.0) (1.15.0)\n",
      "Requirement already satisfied: numpy>=1.16.0 in ./anaconda3/envs/pytorch_latest_p37/lib/python3.7/site-packages (from pandas-profiling==2.11.0) (1.19.4)\n",
      "Requirement already satisfied: pillow>=6.2.0 in ./anaconda3/envs/pytorch_latest_p37/lib/python3.7/site-packages (from matplotlib>=3.2.0->pandas-profiling==2.11.0) (7.0.0)\n",
      "Requirement already satisfied: PyWavelets in ./anaconda3/envs/pytorch_latest_p37/lib/python3.7/site-packages (from imagehash->visions[type_image_path]==0.6.0->pandas-profiling==2.11.0) (1.1.1)\n",
      "Requirement already satisfied: decorator in ./anaconda3/envs/pytorch_latest_p37/lib/python3.7/site-packages (from ipython>=4.0.0->ipywidgets>=7.5.1->pandas-profiling==2.11.0) (4.4.1)\n",
      "Requirement already satisfied: numpy>=1.16.0 in ./anaconda3/envs/pytorch_latest_p37/lib/python3.7/site-packages (from pandas-profiling==2.11.0) (1.19.4)\n",
      "Requirement already satisfied: attrs>=19.3.0 in ./anaconda3/envs/pytorch_latest_p37/lib/python3.7/site-packages (from pandas-profiling==2.11.0) (20.3.0)\n",
      "Requirement already satisfied: numpy>=1.16.0 in ./anaconda3/envs/pytorch_latest_p37/lib/python3.7/site-packages (from pandas-profiling==2.11.0) (1.19.4)\n",
      "Requirement already satisfied: networkx>=2.4 in ./anaconda3/envs/pytorch_latest_p37/lib/python3.7/site-packages (from visions[type_image_path]==0.6.0->pandas-profiling==2.11.0) (2.4)\n",
      "Requirement already satisfied: notebook>=4.4.1 in ./anaconda3/envs/pytorch_latest_p37/lib/python3.7/site-packages (from widgetsnbextension~=3.5.0->ipywidgets>=7.5.1->pandas-profiling==2.11.0) (6.0.3)\n",
      "Requirement already satisfied: nbconvert in ./anaconda3/envs/pytorch_latest_p37/lib/python3.7/site-packages (from notebook>=4.4.1->widgetsnbextension~=3.5.0->ipywidgets>=7.5.1->pandas-profiling==2.11.0) (5.6.1)\n",
      "Requirement already satisfied: traitlets>=4.3.1 in ./anaconda3/envs/pytorch_latest_p37/lib/python3.7/site-packages (from ipywidgets>=7.5.1->pandas-profiling==2.11.0) (4.3.3)\n",
      "Requirement already satisfied: jinja2>=2.11.1 in ./anaconda3/envs/pytorch_latest_p37/lib/python3.7/site-packages (from pandas-profiling==2.11.0) (2.11.1)\n",
      "Requirement already satisfied: nbformat>=4.2.0 in ./anaconda3/envs/pytorch_latest_p37/lib/python3.7/site-packages (from ipywidgets>=7.5.1->pandas-profiling==2.11.0) (5.0.4)\n",
      "Requirement already satisfied: tornado>=4.2 in ./anaconda3/envs/pytorch_latest_p37/lib/python3.7/site-packages (from ipykernel>=4.5.1->ipywidgets>=7.5.1->pandas-profiling==2.11.0) (6.0.3)\n",
      "Requirement already satisfied: ipykernel>=4.5.1 in ./anaconda3/envs/pytorch_latest_p37/lib/python3.7/site-packages (from ipywidgets>=7.5.1->pandas-profiling==2.11.0) (5.1.4)\n",
      "Requirement already satisfied: jupyter-client in ./anaconda3/envs/pytorch_latest_p37/lib/python3.7/site-packages (from ipykernel>=4.5.1->ipywidgets>=7.5.1->pandas-profiling==2.11.0) (5.3.4)\n",
      "Requirement already satisfied: terminado>=0.8.1 in ./anaconda3/envs/pytorch_latest_p37/lib/python3.7/site-packages (from notebook>=4.4.1->widgetsnbextension~=3.5.0->ipywidgets>=7.5.1->pandas-profiling==2.11.0) (0.8.3)\n",
      "Requirement already satisfied: prometheus-client in ./anaconda3/envs/pytorch_latest_p37/lib/python3.7/site-packages (from notebook>=4.4.1->widgetsnbextension~=3.5.0->ipywidgets>=7.5.1->pandas-profiling==2.11.0) (0.7.1)\n",
      "Requirement already satisfied: Send2Trash in ./anaconda3/envs/pytorch_latest_p37/lib/python3.7/site-packages (from notebook>=4.4.1->widgetsnbextension~=3.5.0->ipywidgets>=7.5.1->pandas-profiling==2.11.0) (1.5.0)\n",
      "Requirement already satisfied: jupyter-core>=4.6.0 in ./anaconda3/envs/pytorch_latest_p37/lib/python3.7/site-packages (from jupyter-client->ipykernel>=4.5.1->ipywidgets>=7.5.1->pandas-profiling==2.11.0) (4.6.1)\n",
      "Requirement already satisfied: pyzmq>=13 in ./anaconda3/envs/pytorch_latest_p37/lib/python3.7/site-packages (from jupyter-client->ipykernel>=4.5.1->ipywidgets>=7.5.1->pandas-profiling==2.11.0) (18.1.1)\n",
      "Requirement already satisfied: ipython-genutils in ./anaconda3/envs/pytorch_latest_p37/lib/python3.7/site-packages (from nbformat>=4.2.0->ipywidgets>=7.5.1->pandas-profiling==2.11.0) (0.2.0)\n",
      "Requirement already satisfied: traitlets>=4.3.1 in ./anaconda3/envs/pytorch_latest_p37/lib/python3.7/site-packages (from ipywidgets>=7.5.1->pandas-profiling==2.11.0) (4.3.3)\n",
      "Requirement already satisfied: pandocfilters>=1.4.1 in ./anaconda3/envs/pytorch_latest_p37/lib/python3.7/site-packages (from nbconvert->notebook>=4.4.1->widgetsnbextension~=3.5.0->ipywidgets>=7.5.1->pandas-profiling==2.11.0) (1.4.2)\n",
      "Requirement already satisfied: defusedxml in ./anaconda3/envs/pytorch_latest_p37/lib/python3.7/site-packages (from nbconvert->notebook>=4.4.1->widgetsnbextension~=3.5.0->ipywidgets>=7.5.1->pandas-profiling==2.11.0) (0.6.0)\n",
      "Requirement already satisfied: entrypoints>=0.2.2 in ./anaconda3/envs/pytorch_latest_p37/lib/python3.7/site-packages (from nbconvert->notebook>=4.4.1->widgetsnbextension~=3.5.0->ipywidgets>=7.5.1->pandas-profiling==2.11.0) (0.3)\n",
      "Requirement already satisfied: pygments in ./anaconda3/envs/pytorch_latest_p37/lib/python3.7/site-packages (from ipython>=4.0.0->ipywidgets>=7.5.1->pandas-profiling==2.11.0) (2.5.2)\n",
      "Requirement already satisfied: bleach in ./anaconda3/envs/pytorch_latest_p37/lib/python3.7/site-packages (from nbconvert->notebook>=4.4.1->widgetsnbextension~=3.5.0->ipywidgets>=7.5.1->pandas-profiling==2.11.0) (3.2.1)\n",
      "Requirement already satisfied: testpath in ./anaconda3/envs/pytorch_latest_p37/lib/python3.7/site-packages (from nbconvert->notebook>=4.4.1->widgetsnbextension~=3.5.0->ipywidgets>=7.5.1->pandas-profiling==2.11.0) (0.4.4)\n",
      "Requirement already satisfied: jupyter-core>=4.6.0 in ./anaconda3/envs/pytorch_latest_p37/lib/python3.7/site-packages (from jupyter-client->ipykernel>=4.5.1->ipywidgets>=7.5.1->pandas-profiling==2.11.0) (4.6.1)\n",
      "Requirement already satisfied: nbformat>=4.2.0 in ./anaconda3/envs/pytorch_latest_p37/lib/python3.7/site-packages (from ipywidgets>=7.5.1->pandas-profiling==2.11.0) (5.0.4)\n",
      "Requirement already satisfied: jinja2>=2.11.1 in ./anaconda3/envs/pytorch_latest_p37/lib/python3.7/site-packages (from pandas-profiling==2.11.0) (2.11.1)\n",
      "Requirement already satisfied: mistune<2,>=0.8.1 in ./anaconda3/envs/pytorch_latest_p37/lib/python3.7/site-packages (from nbconvert->notebook>=4.4.1->widgetsnbextension~=3.5.0->ipywidgets>=7.5.1->pandas-profiling==2.11.0) (0.8.4)\n",
      "Requirement already satisfied: six in ./anaconda3/envs/pytorch_latest_p37/lib/python3.7/site-packages (from cycler>=0.10->matplotlib>=3.2.0->pandas-profiling==2.11.0) (1.15.0)\n",
      "Requirement already satisfied: webencodings in ./anaconda3/envs/pytorch_latest_p37/lib/python3.7/site-packages (from bleach->nbconvert->notebook>=4.4.1->widgetsnbextension~=3.5.0->ipywidgets>=7.5.1->pandas-profiling==2.11.0) (0.5.1)\n",
      "Requirement already satisfied: packaging>=20.0 in ./anaconda3/envs/pytorch_latest_p37/lib/python3.7/site-packages (from matplotlib>=3.2.0->pandas-profiling==2.11.0) (20.7)\n",
      "Building wheels for collected packages: htmlmin, imagehash\n",
      "  Building wheel for htmlmin (setup.py) ... \u001b[?25ldone\n",
      "\u001b[?25h  Created wheel for htmlmin: filename=htmlmin-0.1.12-py3-none-any.whl size=27084 sha256=cefa65e6b984caabcdd192fa2546be0e8c8fd61f5990c85910e86cfb864db393\n",
      "  Stored in directory: /home/ubuntu/.cache/pip/wheels/70/e1/52/5b14d250ba868768823940c3229e9950d201a26d0bd3ee8655\n",
      "  Building wheel for imagehash (setup.py) ... \u001b[?25ldone\n",
      "\u001b[?25h  Created wheel for imagehash: filename=ImageHash-4.2.1-py2.py3-none-any.whl size=295198 sha256=2656a99a9144ab6c10d4417f6333f329896bc1c9fe926353f1574eb6d034f439\n",
      "  Stored in directory: /home/ubuntu/.cache/pip/wheels/4c/d5/59/5e3e297533ddb09407769762985d134135064c6831e29a914e\n",
      "Successfully built htmlmin imagehash\n",
      "Installing collected packages: fonttools, tangled-up-in-unicode, scipy, pandas, matplotlib, visions, seaborn, imagehash, tqdm, phik, missingno, htmlmin, confuse, pandas-profiling\n",
      "  Attempting uninstall: scipy\n",
      "    Found existing installation: scipy 1.4.1\n",
      "    Uninstalling scipy-1.4.1:\n",
      "      Successfully uninstalled scipy-1.4.1\n",
      "  Attempting uninstall: pandas\n",
      "    Found existing installation: pandas 1.0.1\n",
      "    Uninstalling pandas-1.0.1:\n",
      "      Successfully uninstalled pandas-1.0.1\n",
      "  Attempting uninstall: matplotlib\n",
      "    Found existing installation: matplotlib 3.1.3\n",
      "    Uninstalling matplotlib-3.1.3:\n",
      "      Successfully uninstalled matplotlib-3.1.3\n",
      "  Attempting uninstall: seaborn\n",
      "    Found existing installation: seaborn 0.10.0\n",
      "    Uninstalling seaborn-0.10.0:\n",
      "      Successfully uninstalled seaborn-0.10.0\n",
      "  Attempting uninstall: tqdm\n",
      "    Found existing installation: tqdm 4.42.1\n",
      "    Uninstalling tqdm-4.42.1:\n",
      "      Successfully uninstalled tqdm-4.42.1\n",
      "\u001b[31mERROR: pip's dependency resolver does not currently take into account all the packages that are installed. This behaviour is the source of the following dependency conflicts.\n",
      "fastai 1.0.61 requires nvidia-ml-py3, which is not installed.\u001b[0m\n",
      "Successfully installed confuse-1.7.0 fonttools-4.29.0 htmlmin-0.1.12 imagehash-4.2.1 matplotlib-3.5.1 missingno-0.5.0 pandas-1.3.5 pandas-profiling-2.11.0 phik-0.12.0 scipy-1.7.3 seaborn-0.11.2 tangled-up-in-unicode-0.2.0 tqdm-4.62.3 visions-0.6.0\n",
      "\u001b[33mWARNING: You are using pip version 20.3; however, version 21.3.1 is available.\r\n",
      "You should consider upgrading via the '/home/ubuntu/anaconda3/envs/pytorch_latest_p37/bin/python -m pip install --upgrade pip' command.\u001b[0m\r\n"
     ]
    }
   ],
   "source": [
    "! pip install -U pandas-profiling==2.11.0"
   ]
  },
  {
   "cell_type": "code",
   "execution_count": 3,
   "metadata": {},
   "outputs": [
    {
     "name": "stdout",
     "output_type": "stream",
     "text": [
      "Requirement already satisfied: pandas in ./anaconda3/envs/pytorch_latest_p37/lib/python3.7/site-packages (1.3.5)\n",
      "Requirement already satisfied: pytz>=2017.3 in ./anaconda3/envs/pytorch_latest_p37/lib/python3.7/site-packages (from pandas) (2019.3)\n",
      "Requirement already satisfied: numpy>=1.17.3 in ./anaconda3/envs/pytorch_latest_p37/lib/python3.7/site-packages (from pandas) (1.19.4)\n",
      "Requirement already satisfied: python-dateutil>=2.7.3 in ./anaconda3/envs/pytorch_latest_p37/lib/python3.7/site-packages (from pandas) (2.8.1)\n",
      "Requirement already satisfied: six>=1.5 in ./anaconda3/envs/pytorch_latest_p37/lib/python3.7/site-packages (from python-dateutil>=2.7.3->pandas) (1.15.0)\n",
      "\u001b[33mWARNING: You are using pip version 20.3; however, version 21.3.1 is available.\n",
      "You should consider upgrading via the '/home/ubuntu/anaconda3/envs/pytorch_latest_p37/bin/python -m pip install --upgrade pip' command.\u001b[0m\n"
     ]
    }
   ],
   "source": [
    "! pip install -U pandas"
   ]
  },
  {
   "cell_type": "markdown",
   "metadata": {},
   "source": [
    "# Import Files and Read DataFrame"
   ]
  },
  {
   "cell_type": "code",
   "execution_count": 1,
   "metadata": {},
   "outputs": [],
   "source": [
    "import pandas as pd\n",
    "import pandas_profiling"
   ]
  },
  {
   "cell_type": "code",
   "execution_count": 2,
   "metadata": {},
   "outputs": [],
   "source": [
    "df = pd.read_csv(\"./data/census.csv\",skipinitialspace = True)"
   ]
  },
  {
   "cell_type": "code",
   "execution_count": 3,
   "metadata": {},
   "outputs": [
    {
     "data": {
      "text/plain": [
       "32561"
      ]
     },
     "execution_count": 3,
     "metadata": {},
     "output_type": "execute_result"
    }
   ],
   "source": [
    "len(df)"
   ]
  },
  {
   "cell_type": "markdown",
   "metadata": {},
   "source": [
    "# Get Profile of DataFrame"
   ]
  },
  {
   "cell_type": "code",
   "execution_count": 4,
   "metadata": {},
   "outputs": [
    {
     "data": {
      "application/vnd.jupyter.widget-view+json": {
       "model_id": "296726b662774b5ebdfa2350a5c1e0de",
       "version_major": 2,
       "version_minor": 0
      },
      "text/plain": [
       "Summarize dataset:   0%|          | 0/28 [00:00<?, ?it/s]"
      ]
     },
     "metadata": {},
     "output_type": "display_data"
    },
    {
     "data": {
      "application/vnd.jupyter.widget-view+json": {
       "model_id": "5506cbd3cd824c92abe31eba045234b2",
       "version_major": 2,
       "version_minor": 0
      },
      "text/plain": [
       "Generate report structure:   0%|          | 0/1 [00:00<?, ?it/s]"
      ]
     },
     "metadata": {},
     "output_type": "display_data"
    },
    {
     "data": {
      "application/vnd.jupyter.widget-view+json": {
       "model_id": "",
       "version_major": 2,
       "version_minor": 0
      },
      "text/plain": [
       "Render widgets:   0%|          | 0/1 [00:00<?, ?it/s]"
      ]
     },
     "metadata": {},
     "output_type": "display_data"
    },
    {
     "data": {
      "application/vnd.jupyter.widget-view+json": {
       "model_id": "771ddc9368fc441290a787c62160b3d0",
       "version_major": 2,
       "version_minor": 0
      },
      "text/plain": [
       "VBox(children=(Tab(children=(Tab(children=(GridBox(children=(VBox(children=(GridspecLayout(children=(HTML(valu…"
      ]
     },
     "metadata": {},
     "output_type": "display_data"
    }
   ],
   "source": [
    "profile = pandas_profiling.ProfileReport(df)\n",
    "profile.to_widgets()"
   ]
  },
  {
   "cell_type": "code",
   "execution_count": null,
   "metadata": {},
   "outputs": [],
   "source": []
  }
 ],
 "metadata": {
  "kernelspec": {
   "display_name": "Environment (conda_pytorch_latest_p37)",
   "language": "python",
   "name": "conda_pytorch_latest_p37"
  },
  "language_info": {
   "codemirror_mode": {
    "name": "ipython",
    "version": 3
   },
   "file_extension": ".py",
   "mimetype": "text/x-python",
   "name": "python",
   "nbconvert_exporter": "python",
   "pygments_lexer": "ipython3",
   "version": "3.7.6"
  }
 },
 "nbformat": 4,
 "nbformat_minor": 4
}
